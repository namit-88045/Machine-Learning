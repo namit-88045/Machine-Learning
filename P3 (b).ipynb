
Gradient Descent - House Prices
Preprocessing

import numpy as np
import pandas as pd
import seaborn as sns
import matplotlib.pyplot as plt
sns.set_theme(style='darkgrid')
df = pd.read_csv('hu.csv')
df.head()
area	price
0	2600	550000
1	3000	565000
2	3200	610000
3	3600	680000
4	4000	725000
df.describe()
area	price
count	5.000000	5.000000
mean	3280.000000	626000.000000
std	540.370243	74949.983322
min	2600.000000	550000.000000
25%	3000.000000	565000.000000
50%	3200.000000	610000.000000
75%	3600.000000	680000.000000
max	4000.000000	725000.000000
df.plot.scatter('area', 'price', color='red')
plt.show()

X_train = df.drop('price', axis=1)
y_train = df.drop('area', axis=1)
from sklearn import preprocessing
scaler = preprocessing.StandardScaler()
X_train_scaled = scaler.fit_transform(X_train)
y_train_scaled = scaler.fit_transform(y_train)
Gradient Descent
from sklearn.metrics import mean_squared_error

def gradient_descent(X, y, theta, lr=0.01, steps=100):
    N = len(y)
    cost_history = np.zeros(steps)
    theta_history = np.zeros((steps, 2))
    for i in range(steps):
        prediction = np.dot(X, theta)
        theta = theta - (1 / N) * lr * (X.T.dot((prediction - y)))
        theta_history[i, :] = theta.T
        cost_history[i] = mean_squared_error(prediction, y)
        
    return theta, cost_history, theta_history
lr = 0.1
it = 50
theta = np.random.randn(2, 1)

X_b = np.c_[
    X_train_scaled,
    np.ones((len(X_train_scaled), 1))
]

_, cost, theta = gradient_descent(X_b, y_train_scaled, theta, lr, it)
sns.lineplot(x=range(1, 51), y=cost)
plt.show()

np.array([1,2])
array([1, 2])
theta_df = pd.DataFrame(theta)
fig = plt.figure()
ax = plt.axes(projection='3d')

ax.plot_surface(theta_df[0], theta_df.drop(0, axis=1), np.array(cost).reshape(-1, 1), cmap='viridis', edgecolor='none')
ax.set_title('Surface plot')
plt.show()

sns.lineplot(x=theta_df[1], y=cost)
plt.show()

plt.scatter(X_train_scaled, y_train_scaled, color='blue')
for t in theta:
    plt.plot(
        X_train_scaled,
        t[0] * X_train_scaled + t[1],
        color='red',
        alpha=0.1
    )
plt.show()

 

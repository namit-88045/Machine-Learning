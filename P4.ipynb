
Linear Regression - House Prices MV
Preprocessing

import numpy as np
import pandas as pd
import seaborn as sns
import matplotlib.pyplot as plt
sns.set_theme(style='darkgrid')
df = pd.read_csv('hm.csv')
df.head()
area	bedrooms	age	price
0	2600	3.0	20	550000
1	3000	4.0	15	565000
2	3200	NaN	18	610000
3	3600	3.0	30	595000
4	4000	5.0	8	760000
df.info()
<class 'pandas.core.frame.DataFrame'>
RangeIndex: 6 entries, 0 to 5
Data columns (total 4 columns):
 #   Column    Non-Null Count  Dtype  
---  ------    --------------  -----  
 0   area      6 non-null      int64  
 1   bedrooms  5 non-null      float64
 2   age       6 non-null      int64  
 3   price     6 non-null      int64  
dtypes: float64(1), int64(3)
memory usage: 320.0 bytes
df.describe()
area	bedrooms	age	price
count	6.000000	5.00000	6.000000	6.000000
mean	3416.666667	4.20000	16.500000	648333.333333
std	587.934237	1.30384	8.288546	109117.673484
min	2600.000000	3.00000	8.000000	550000.000000
25%	3050.000000	3.00000	9.750000	572500.000000
50%	3400.000000	4.00000	16.500000	602500.000000
75%	3900.000000	5.00000	19.500000	722500.000000
max	4100.000000	6.00000	30.000000	810000.000000
sns.heatmap(df.corr(), annot=True)
plt.show()

for x in df.columns[:-1]:
    df.plot.scatter(x, 'price', color='red')
    plt.show()



for x in df.columns:
    df[x].plot.density()
    plt.show()




sns.heatmap(df.isnull(), cbar=False)
plt.show()

df['bedrooms'] = df['bedrooms'].fillna(df['bedrooms'].median())
df.info()
<class 'pandas.core.frame.DataFrame'>
RangeIndex: 6 entries, 0 to 5
Data columns (total 4 columns):
 #   Column    Non-Null Count  Dtype  
---  ------    --------------  -----  
 0   area      6 non-null      int64  
 1   bedrooms  6 non-null      float64
 2   age       6 non-null      int64  
 3   price     6 non-null      int64  
dtypes: float64(1), int64(3)
memory usage: 320.0 bytes
X_train = df.drop('price', axis=1)
y_train = df['price']
Modelling
from sklearn.linear_model import LinearRegression
model = LinearRegression()
model.fit(X_train, y_train)
LinearRegression()
In a Jupyter environment, please rerun this cell to show the HTML representation or trust the notebook.
On GitHub, the HTML representation is unable to render, please try loading this page with nbviewer.org.
model.coef_, model.intercept_
(array([  112.06244194, 23388.88007794, -3231.71790863]), 221323.00186540396)
 

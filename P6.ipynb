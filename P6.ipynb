

import pandas as pd
     

df = pd.read_csv("titanic.csv")
df.head()
     
PassengerId	Name	Pclass	Sex	Age	SibSp	Parch	Ticket	Fare	Cabin	Embarked	Survived
0	1	Braund, Mr. Owen Harris	3	male	22.0	1	0	A/5 21171	7.2500	NaN	S	0
1	2	Cumings, Mrs. John Bradley (Florence Briggs Th...	1	female	38.0	1	0	PC 17599	71.2833	C85	C	1
2	3	Heikkinen, Miss. Laina	3	female	26.0	0	0	STON/O2. 3101282	7.9250	NaN	S	1
3	4	Futrelle, Mrs. Jacques Heath (Lily May Peel)	1	female	35.0	1	0	113803	53.1000	C123	S	1
4	5	Allen, Mr. William Henry	3	male	35.0	0	0	373450	8.0500	NaN	S	0

df.drop(['PassengerId','Name','SibSp','Parch','Ticket','Cabin','Embarked'],axis='columns',inplace=True)
df.head()
     
Pclass	Sex	Age	Fare	Survived
0	3	male	22.0	7.2500	0
1	1	female	38.0	71.2833	1
2	3	female	26.0	7.9250	1
3	1	female	35.0	53.1000	1
4	3	male	35.0	8.0500	0

inputs = df.drop('Survived',axis='columns')
target = df.Survived
     

dummies = pd.get_dummies(inputs.Sex)
dummies.head(3)
     
female	male
0	0	1
1	1	0
2	1	0

inputs = pd.concat([inputs,dummies],axis='columns')
inputs.head(3)
     
Pclass	Sex	Age	Fare	female	male
0	3	male	22.0	7.2500	0	1
1	1	female	38.0	71.2833	1	0
2	3	female	26.0	7.9250	1	0

inputs.drop(['Sex','male'],axis='columns',inplace=True)
inputs.head(3)
     
Pclass	Age	Fare	female
0	3	22.0	7.2500	0
1	1	38.0	71.2833	1
2	3	26.0	7.9250	1

inputs.columns[inputs.isna().any()]
     
Index(['Age'], dtype='object')

inputs.Age[:10]
     
0    22.0
1    38.0
2    26.0
3    35.0
4    35.0
5     NaN
6    54.0
7     2.0
8    27.0
9    14.0
Name: Age, dtype: float64

inputs.Age = inputs.Age.fillna(inputs.Age.mean())
inputs.head()
     
Pclass	Age	Fare	female
0	3	22.0	7.2500	0
1	1	38.0	71.2833	1
2	3	26.0	7.9250	1
3	1	35.0	53.1000	1
4	3	35.0	8.0500	0

from sklearn.model_selection import train_test_split
X_train, X_test, y_train, y_test = train_test_split(inputs,target,test_size=0.3)
     

from sklearn.naive_bayes import GaussianNB
model = GaussianNB()
     

model.fit(X_train,y_train)
     
GaussianNB()
In a Jupyter environment, please rerun this cell to show the HTML representation or trust the notebook.
On GitHub, the HTML representation is unable to render, please try loading this page with nbviewer.org.

model.score(X_test,y_test)
     
0.7649253731343284

X_test[0:10]
     
Pclass	Age	Fare	female
123	2	32.500000	13.0000	1
463	2	48.000000	13.0000	0
96	1	71.000000	34.6542	0
68	3	17.000000	7.9250	1
129	3	45.000000	6.9750	0
723	2	50.000000	13.0000	0
794	3	25.000000	7.8958	0
460	1	48.000000	26.5500	0
610	3	39.000000	31.2750	1
47	3	29.699118	7.7500	1

y_test[0:10]
     
123    1
463    0
96     0
68     1
129    0
723    0
794    0
460    1
610    0
47     1
Name: Survived, dtype: int64

model.predict(X_test[0:10])
     
array([1, 0, 0, 1, 0, 0, 0, 0, 1, 1])

model.predict_proba(X_test[:10])
     
array([[0.20888767, 0.79111233],
       [0.93036648, 0.06963352],
       [0.68623805, 0.31376195],
       [0.3112101 , 0.6887899 ],
       [0.96807928, 0.03192072],
       [0.92897163, 0.07102837],
       [0.96477556, 0.03522444],
       [0.79980406, 0.20019594],
       [0.35945268, 0.64054732],
       [0.36372316, 0.63627684]])
